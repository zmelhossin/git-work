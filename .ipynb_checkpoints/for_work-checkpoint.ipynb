{
 "cells": [
  {
   "cell_type": "code",
   "execution_count": 1,
   "id": "aafc3df0",
   "metadata": {},
   "outputs": [
    {
     "name": "stdout",
     "output_type": "stream",
     "text": [
      "Hello git and GitHub\n"
     ]
    }
   ],
   "source": [
    "print(\"Hello git and GitHub\")"
   ]
  },
  {
   "cell_type": "code",
   "execution_count": 2,
   "id": "ff8e28f6",
   "metadata": {},
   "outputs": [
    {
     "name": "stdout",
     "output_type": "stream",
     "text": [
      "zezo\n"
     ]
    }
   ],
   "source": [
    "print(\"zezo\")"
   ]
  },
  {
   "cell_type": "code",
   "execution_count": null,
   "id": "f8d83f46",
   "metadata": {},
   "outputs": [],
   "source": []
  }
 ],
 "metadata": {
  "kernelspec": {
   "display_name": "Python 3 (ipykernel)",
   "language": "python",
   "name": "python3"
  },
  "language_info": {
   "codemirror_mode": {
    "name": "ipython",
    "version": 3
   },
   "file_extension": ".py",
   "mimetype": "text/x-python",
   "name": "python",
   "nbconvert_exporter": "python",
   "pygments_lexer": "ipython3",
   "version": "3.9.12"
  }
 },
 "nbformat": 4,
 "nbformat_minor": 5
}
